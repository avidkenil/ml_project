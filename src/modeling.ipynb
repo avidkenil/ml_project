{
 "cells": [
  {
   "cell_type": "code",
   "execution_count": 1,
   "metadata": {
    "collapsed": true
   },
   "outputs": [],
   "source": [
    "import pandas as pd\n",
    "import numpy as np"
   ]
  },
  {
   "cell_type": "code",
   "execution_count": 2,
   "metadata": {
    "collapsed": true
   },
   "outputs": [],
   "source": [
    "import spacy\n",
    "from spacy.lang.en.stop_words import STOP_WORDS\n",
    "from spacy.lang.en import English\n",
    "import string"
   ]
  },
  {
   "cell_type": "code",
   "execution_count": 3,
   "metadata": {
    "collapsed": true
   },
   "outputs": [],
   "source": [
    "from collections import Counter\n",
    "import pickle\n",
    "import csv"
   ]
  },
  {
   "cell_type": "code",
   "execution_count": 160,
   "metadata": {
    "collapsed": true
   },
   "outputs": [],
   "source": [
    "import torch\n",
    "from torch import nn\n",
    "import torch.nn.functional as F\n",
    "from torch.autograd import Variable\n",
    "from torch.optim import Adam\n",
    "from torch.utils.data import TensorDataset, DataLoader, Dataset\n",
    "from torch.nn.utils.rnn import pack_padded_sequence, pad_packed_sequence"
   ]
  },
  {
   "cell_type": "code",
   "execution_count": 121,
   "metadata": {
    "collapsed": true
   },
   "outputs": [],
   "source": [
    "from sklearn.model_selection import train_test_split\n",
    "import random"
   ]
  },
  {
   "cell_type": "code",
   "execution_count": 122,
   "metadata": {},
   "outputs": [],
   "source": [
    "torch.manual_seed(1337)\n",
    "random.seed(1)"
   ]
  },
  {
   "cell_type": "code",
   "execution_count": 5,
   "metadata": {
    "collapsed": true
   },
   "outputs": [],
   "source": [
    "spacy_en = spacy.load('en')\n",
    "parser = English()\n",
    "punctuations = string.punctuation"
   ]
  },
  {
   "cell_type": "code",
   "execution_count": 6,
   "metadata": {
    "collapsed": true
   },
   "outputs": [],
   "source": [
    "NEGATE = [\"aint\", \"arent\", \"cannot\", \"cant\", \"couldnt\", \"darent\", \"didnt\", \"doesnt\",\n",
    " \"ain't\", \"aren't\", \"can't\", \"couldn't\", \"daren't\", \"didn't\", \"doesn't\",\n",
    " \"dont\", \"hadnt\", \"hasnt\", \"havent\", \"isnt\", \"mightnt\", \"mustnt\", \"neither\",\n",
    " \"don't\", \"hadn't\", \"hasn't\", \"haven't\", \"isn't\", \"mightn't\", \"mustn't\",\n",
    " \"neednt\", \"needn't\", \"never\", \"none\", \"nope\", \"nor\", \"not\", \"nothing\", \"nowhere\",\"no\",\n",
    " \"oughtnt\", \"shant\", \"shouldnt\", \"uhuh\", \"wasnt\", \"werent\",\n",
    " \"oughtn't\", \"shan't\", \"shouldn't\", \"uh-uh\", \"wasn't\", \"weren't\",\n",
    " \"without\", \"wont\", \"wouldnt\", \"won't\", \"wouldn't\", \"rarely\", \"seldom\", \"despite\"]"
   ]
  },
  {
   "cell_type": "code",
   "execution_count": 7,
   "metadata": {
    "collapsed": true
   },
   "outputs": [],
   "source": [
    "stopwords = STOP_WORDS.copy()\n",
    "for word in STOP_WORDS:\n",
    "    if word in NEGATE:\n",
    "        stopwords.remove(word)\n",
    "        "
   ]
  },
  {
   "cell_type": "code",
   "execution_count": 8,
   "metadata": {
    "collapsed": true
   },
   "outputs": [],
   "source": [
    "def spacy_tokenizer(sentence):\n",
    "    tokens = parser(sentence)\n",
    "    tokens = [tok.lemma_.lower().strip() if tok.lemma_ != \"-PRON-\" else tok.lower_ for tok in tokens]\n",
    "    tokens = [tok for tok in tokens if (tok not in stopwords and tok not in punctuations)]     \n",
    "    return tokens"
   ]
  },
  {
   "cell_type": "code",
   "execution_count": 36,
   "metadata": {
    "collapsed": true
   },
   "outputs": [],
   "source": [
    "word_counter = Counter()\n",
    "for text in train_data.comment_text:\n",
    "    word_counter.update(spacy_tokenizer(text))"
   ]
  },
  {
   "cell_type": "code",
   "execution_count": 37,
   "metadata": {},
   "outputs": [],
   "source": [
    "pickle.dump(word_counter,open('word_counter.pkl','wb'))"
   ]
  },
  {
   "cell_type": "code",
   "execution_count": 9,
   "metadata": {
    "collapsed": true
   },
   "outputs": [],
   "source": [
    "train_data = pd.read_csv('../data/train.csv')"
   ]
  },
  {
   "cell_type": "code",
   "execution_count": 10,
   "metadata": {},
   "outputs": [
    {
     "data": {
      "text/html": [
       "<div>\n",
       "<style>\n",
       "    .dataframe thead tr:only-child th {\n",
       "        text-align: right;\n",
       "    }\n",
       "\n",
       "    .dataframe thead th {\n",
       "        text-align: left;\n",
       "    }\n",
       "\n",
       "    .dataframe tbody tr th {\n",
       "        vertical-align: top;\n",
       "    }\n",
       "</style>\n",
       "<table border=\"1\" class=\"dataframe\">\n",
       "  <thead>\n",
       "    <tr style=\"text-align: right;\">\n",
       "      <th></th>\n",
       "      <th>id</th>\n",
       "      <th>comment_text</th>\n",
       "      <th>toxic</th>\n",
       "      <th>severe_toxic</th>\n",
       "      <th>obscene</th>\n",
       "      <th>threat</th>\n",
       "      <th>insult</th>\n",
       "      <th>identity_hate</th>\n",
       "    </tr>\n",
       "  </thead>\n",
       "  <tbody>\n",
       "    <tr>\n",
       "      <th>0</th>\n",
       "      <td>0000997932d777bf</td>\n",
       "      <td>Explanation\\nWhy the edits made under my usern...</td>\n",
       "      <td>0</td>\n",
       "      <td>0</td>\n",
       "      <td>0</td>\n",
       "      <td>0</td>\n",
       "      <td>0</td>\n",
       "      <td>0</td>\n",
       "    </tr>\n",
       "    <tr>\n",
       "      <th>1</th>\n",
       "      <td>000103f0d9cfb60f</td>\n",
       "      <td>D'aww! He matches this background colour I'm s...</td>\n",
       "      <td>0</td>\n",
       "      <td>0</td>\n",
       "      <td>0</td>\n",
       "      <td>0</td>\n",
       "      <td>0</td>\n",
       "      <td>0</td>\n",
       "    </tr>\n",
       "    <tr>\n",
       "      <th>2</th>\n",
       "      <td>000113f07ec002fd</td>\n",
       "      <td>Hey man, I'm really not trying to edit war. It...</td>\n",
       "      <td>0</td>\n",
       "      <td>0</td>\n",
       "      <td>0</td>\n",
       "      <td>0</td>\n",
       "      <td>0</td>\n",
       "      <td>0</td>\n",
       "    </tr>\n",
       "    <tr>\n",
       "      <th>3</th>\n",
       "      <td>0001b41b1c6bb37e</td>\n",
       "      <td>\"\\nMore\\nI can't make any real suggestions on ...</td>\n",
       "      <td>0</td>\n",
       "      <td>0</td>\n",
       "      <td>0</td>\n",
       "      <td>0</td>\n",
       "      <td>0</td>\n",
       "      <td>0</td>\n",
       "    </tr>\n",
       "    <tr>\n",
       "      <th>4</th>\n",
       "      <td>0001d958c54c6e35</td>\n",
       "      <td>You, sir, are my hero. Any chance you remember...</td>\n",
       "      <td>0</td>\n",
       "      <td>0</td>\n",
       "      <td>0</td>\n",
       "      <td>0</td>\n",
       "      <td>0</td>\n",
       "      <td>0</td>\n",
       "    </tr>\n",
       "  </tbody>\n",
       "</table>\n",
       "</div>"
      ],
      "text/plain": [
       "                 id                                       comment_text  toxic  \\\n",
       "0  0000997932d777bf  Explanation\\nWhy the edits made under my usern...      0   \n",
       "1  000103f0d9cfb60f  D'aww! He matches this background colour I'm s...      0   \n",
       "2  000113f07ec002fd  Hey man, I'm really not trying to edit war. It...      0   \n",
       "3  0001b41b1c6bb37e  \"\\nMore\\nI can't make any real suggestions on ...      0   \n",
       "4  0001d958c54c6e35  You, sir, are my hero. Any chance you remember...      0   \n",
       "\n",
       "   severe_toxic  obscene  threat  insult  identity_hate  \n",
       "0             0        0       0       0              0  \n",
       "1             0        0       0       0              0  \n",
       "2             0        0       0       0              0  \n",
       "3             0        0       0       0              0  \n",
       "4             0        0       0       0              0  "
      ]
     },
     "execution_count": 10,
     "metadata": {},
     "output_type": "execute_result"
    }
   ],
   "source": [
    "train_data.head()"
   ]
  },
  {
   "cell_type": "code",
   "execution_count": 11,
   "metadata": {},
   "outputs": [
    {
     "data": {
      "text/plain": [
       "False"
      ]
     },
     "execution_count": 11,
     "metadata": {},
     "output_type": "execute_result"
    }
   ],
   "source": [
    "(train_data['comment_text'] == ' ').any()"
   ]
  },
  {
   "cell_type": "code",
   "execution_count": 12,
   "metadata": {},
   "outputs": [
    {
     "data": {
      "text/plain": [
       "id               0\n",
       "comment_text     0\n",
       "toxic            0\n",
       "severe_toxic     0\n",
       "obscene          0\n",
       "threat           0\n",
       "insult           0\n",
       "identity_hate    0\n",
       "dtype: int64"
      ]
     },
     "execution_count": 12,
     "metadata": {},
     "output_type": "execute_result"
    }
   ],
   "source": [
    "train_data.isnull().sum()"
   ]
  },
  {
   "cell_type": "code",
   "execution_count": 13,
   "metadata": {
    "collapsed": true
   },
   "outputs": [],
   "source": [
    "train_data['comment_text'].fillna(value = '_na_',inplace=True)"
   ]
  },
  {
   "cell_type": "code",
   "execution_count": 14,
   "metadata": {
    "collapsed": true
   },
   "outputs": [],
   "source": [
    "vocab_size = 1000\n",
    "embed_size = 50"
   ]
  },
  {
   "cell_type": "code",
   "execution_count": 15,
   "metadata": {
    "collapsed": true
   },
   "outputs": [],
   "source": [
    "EMBEDDING_FILE = '../data/glove.twitter.27B/glove.twitter.27B.50d.txt'"
   ]
  },
  {
   "cell_type": "code",
   "execution_count": 16,
   "metadata": {
    "collapsed": true
   },
   "outputs": [],
   "source": [
    "embeddings_df = pd.read_table(EMBEDDING_FILE, sep=' ', header=None, quoting=csv.QUOTE_NONE)"
   ]
  },
  {
   "cell_type": "code",
   "execution_count": 17,
   "metadata": {},
   "outputs": [
    {
     "data": {
      "text/plain": [
       "1"
      ]
     },
     "execution_count": 17,
     "metadata": {},
     "output_type": "execute_result"
    }
   ],
   "source": [
    "embeddings_df[0].isnull().sum()"
   ]
  },
  {
   "cell_type": "code",
   "execution_count": 18,
   "metadata": {
    "collapsed": true
   },
   "outputs": [],
   "source": [
    "embeddings_df.dropna(inplace=True)"
   ]
  },
  {
   "cell_type": "code",
   "execution_count": 19,
   "metadata": {},
   "outputs": [
    {
     "data": {
      "text/html": [
       "<div>\n",
       "<style>\n",
       "    .dataframe thead tr:only-child th {\n",
       "        text-align: right;\n",
       "    }\n",
       "\n",
       "    .dataframe thead th {\n",
       "        text-align: left;\n",
       "    }\n",
       "\n",
       "    .dataframe tbody tr th {\n",
       "        vertical-align: top;\n",
       "    }\n",
       "</style>\n",
       "<table border=\"1\" class=\"dataframe\">\n",
       "  <thead>\n",
       "    <tr style=\"text-align: right;\">\n",
       "      <th></th>\n",
       "      <th>0</th>\n",
       "      <th>1</th>\n",
       "      <th>2</th>\n",
       "      <th>3</th>\n",
       "      <th>4</th>\n",
       "      <th>5</th>\n",
       "      <th>6</th>\n",
       "      <th>7</th>\n",
       "      <th>8</th>\n",
       "      <th>9</th>\n",
       "      <th>...</th>\n",
       "      <th>41</th>\n",
       "      <th>42</th>\n",
       "      <th>43</th>\n",
       "      <th>44</th>\n",
       "      <th>45</th>\n",
       "      <th>46</th>\n",
       "      <th>47</th>\n",
       "      <th>48</th>\n",
       "      <th>49</th>\n",
       "      <th>50</th>\n",
       "    </tr>\n",
       "  </thead>\n",
       "  <tbody>\n",
       "    <tr>\n",
       "      <th>0</th>\n",
       "      <td>&lt;user&gt;</td>\n",
       "      <td>0.787040</td>\n",
       "      <td>0.721510</td>\n",
       "      <td>0.291480</td>\n",
       "      <td>-0.056527</td>\n",
       "      <td>0.316830</td>\n",
       "      <td>0.47172</td>\n",
       "      <td>0.023461</td>\n",
       "      <td>0.69568</td>\n",
       "      <td>0.207820</td>\n",
       "      <td>...</td>\n",
       "      <td>-2.2162</td>\n",
       "      <td>-0.425370</td>\n",
       "      <td>0.461570</td>\n",
       "      <td>0.886260</td>\n",
       "      <td>-0.220140</td>\n",
       "      <td>0.025599</td>\n",
       "      <td>-0.386150</td>\n",
       "      <td>0.080107</td>\n",
       "      <td>-0.075323</td>\n",
       "      <td>-0.614610</td>\n",
       "    </tr>\n",
       "    <tr>\n",
       "      <th>1</th>\n",
       "      <td>.</td>\n",
       "      <td>0.686610</td>\n",
       "      <td>-1.077200</td>\n",
       "      <td>0.011114</td>\n",
       "      <td>-0.240750</td>\n",
       "      <td>-0.342200</td>\n",
       "      <td>0.64456</td>\n",
       "      <td>0.549570</td>\n",
       "      <td>0.30411</td>\n",
       "      <td>-0.546820</td>\n",
       "      <td>...</td>\n",
       "      <td>-1.3495</td>\n",
       "      <td>0.232580</td>\n",
       "      <td>0.253830</td>\n",
       "      <td>-0.102260</td>\n",
       "      <td>0.658240</td>\n",
       "      <td>0.160150</td>\n",
       "      <td>0.209590</td>\n",
       "      <td>-0.067516</td>\n",
       "      <td>-0.519520</td>\n",
       "      <td>-0.349220</td>\n",
       "    </tr>\n",
       "    <tr>\n",
       "      <th>2</th>\n",
       "      <td>:</td>\n",
       "      <td>0.984830</td>\n",
       "      <td>0.197840</td>\n",
       "      <td>0.284030</td>\n",
       "      <td>0.354060</td>\n",
       "      <td>0.243800</td>\n",
       "      <td>0.42519</td>\n",
       "      <td>-0.050784</td>\n",
       "      <td>0.48965</td>\n",
       "      <td>0.182310</td>\n",
       "      <td>...</td>\n",
       "      <td>-2.8820</td>\n",
       "      <td>-0.303930</td>\n",
       "      <td>0.047981</td>\n",
       "      <td>1.093700</td>\n",
       "      <td>0.418400</td>\n",
       "      <td>-0.689580</td>\n",
       "      <td>-0.459230</td>\n",
       "      <td>0.233680</td>\n",
       "      <td>-0.306280</td>\n",
       "      <td>-0.093607</td>\n",
       "    </tr>\n",
       "    <tr>\n",
       "      <th>3</th>\n",
       "      <td>rt</td>\n",
       "      <td>0.682430</td>\n",
       "      <td>0.735890</td>\n",
       "      <td>0.017529</td>\n",
       "      <td>-0.137630</td>\n",
       "      <td>0.360290</td>\n",
       "      <td>0.51704</td>\n",
       "      <td>0.195400</td>\n",
       "      <td>0.75219</td>\n",
       "      <td>0.430290</td>\n",
       "      <td>...</td>\n",
       "      <td>-2.7490</td>\n",
       "      <td>-0.551060</td>\n",
       "      <td>0.040409</td>\n",
       "      <td>0.291640</td>\n",
       "      <td>-0.287920</td>\n",
       "      <td>-0.022740</td>\n",
       "      <td>-0.402950</td>\n",
       "      <td>0.147710</td>\n",
       "      <td>0.080503</td>\n",
       "      <td>-0.681150</td>\n",
       "    </tr>\n",
       "    <tr>\n",
       "      <th>4</th>\n",
       "      <td>,</td>\n",
       "      <td>0.137440</td>\n",
       "      <td>-1.015100</td>\n",
       "      <td>-0.504910</td>\n",
       "      <td>0.269830</td>\n",
       "      <td>-0.755710</td>\n",
       "      <td>1.10140</td>\n",
       "      <td>0.077018</td>\n",
       "      <td>-0.15144</td>\n",
       "      <td>0.061658</td>\n",
       "      <td>...</td>\n",
       "      <td>-2.0934</td>\n",
       "      <td>0.605430</td>\n",
       "      <td>-0.337260</td>\n",
       "      <td>0.193130</td>\n",
       "      <td>-0.042527</td>\n",
       "      <td>-0.190120</td>\n",
       "      <td>-0.234690</td>\n",
       "      <td>0.212590</td>\n",
       "      <td>-0.194240</td>\n",
       "      <td>-0.938320</td>\n",
       "    </tr>\n",
       "    <tr>\n",
       "      <th>5</th>\n",
       "      <td>&lt;repeat&gt;</td>\n",
       "      <td>0.800740</td>\n",
       "      <td>-0.838710</td>\n",
       "      <td>0.191600</td>\n",
       "      <td>-0.423220</td>\n",
       "      <td>-0.119620</td>\n",
       "      <td>0.57089</td>\n",
       "      <td>0.559830</td>\n",
       "      <td>0.72052</td>\n",
       "      <td>-0.313540</td>\n",
       "      <td>...</td>\n",
       "      <td>-1.4854</td>\n",
       "      <td>-0.083002</td>\n",
       "      <td>0.241770</td>\n",
       "      <td>0.043614</td>\n",
       "      <td>0.583030</td>\n",
       "      <td>0.099758</td>\n",
       "      <td>0.305350</td>\n",
       "      <td>-0.197520</td>\n",
       "      <td>-0.394490</td>\n",
       "      <td>-0.036257</td>\n",
       "    </tr>\n",
       "    <tr>\n",
       "      <th>6</th>\n",
       "      <td>&lt;hashtag&gt;</td>\n",
       "      <td>1.001800</td>\n",
       "      <td>-0.761410</td>\n",
       "      <td>0.118120</td>\n",
       "      <td>-1.374300</td>\n",
       "      <td>-0.416780</td>\n",
       "      <td>0.48956</td>\n",
       "      <td>0.313810</td>\n",
       "      <td>-0.11280</td>\n",
       "      <td>0.221170</td>\n",
       "      <td>...</td>\n",
       "      <td>-2.2086</td>\n",
       "      <td>-0.649060</td>\n",
       "      <td>-0.044567</td>\n",
       "      <td>0.170270</td>\n",
       "      <td>1.010200</td>\n",
       "      <td>0.406080</td>\n",
       "      <td>0.732950</td>\n",
       "      <td>-0.394540</td>\n",
       "      <td>-0.586790</td>\n",
       "      <td>-0.423430</td>\n",
       "    </tr>\n",
       "    <tr>\n",
       "      <th>7</th>\n",
       "      <td>&lt;number&gt;</td>\n",
       "      <td>0.026779</td>\n",
       "      <td>0.080507</td>\n",
       "      <td>0.054467</td>\n",
       "      <td>-0.662600</td>\n",
       "      <td>-0.119540</td>\n",
       "      <td>0.34985</td>\n",
       "      <td>-0.381140</td>\n",
       "      <td>0.12158</td>\n",
       "      <td>-0.396420</td>\n",
       "      <td>...</td>\n",
       "      <td>-3.0616</td>\n",
       "      <td>0.658700</td>\n",
       "      <td>-0.756370</td>\n",
       "      <td>0.155850</td>\n",
       "      <td>0.664040</td>\n",
       "      <td>-1.405100</td>\n",
       "      <td>-0.300530</td>\n",
       "      <td>-1.367100</td>\n",
       "      <td>-0.498800</td>\n",
       "      <td>0.295980</td>\n",
       "    </tr>\n",
       "    <tr>\n",
       "      <th>8</th>\n",
       "      <td>&lt;url&gt;</td>\n",
       "      <td>0.552830</td>\n",
       "      <td>-0.575810</td>\n",
       "      <td>-0.765960</td>\n",
       "      <td>-1.137100</td>\n",
       "      <td>0.220590</td>\n",
       "      <td>-0.19504</td>\n",
       "      <td>-0.140780</td>\n",
       "      <td>0.13109</td>\n",
       "      <td>0.049547</td>\n",
       "      <td>...</td>\n",
       "      <td>-1.9521</td>\n",
       "      <td>-0.121490</td>\n",
       "      <td>0.018784</td>\n",
       "      <td>0.929850</td>\n",
       "      <td>0.502440</td>\n",
       "      <td>0.154810</td>\n",
       "      <td>0.325150</td>\n",
       "      <td>-0.559700</td>\n",
       "      <td>-1.438900</td>\n",
       "      <td>-0.103660</td>\n",
       "    </tr>\n",
       "    <tr>\n",
       "      <th>9</th>\n",
       "      <td>!</td>\n",
       "      <td>0.905660</td>\n",
       "      <td>-0.717920</td>\n",
       "      <td>-0.195740</td>\n",
       "      <td>-0.807430</td>\n",
       "      <td>-0.024903</td>\n",
       "      <td>0.31071</td>\n",
       "      <td>0.894850</td>\n",
       "      <td>0.63035</td>\n",
       "      <td>-0.338630</td>\n",
       "      <td>...</td>\n",
       "      <td>-1.3769</td>\n",
       "      <td>-0.291660</td>\n",
       "      <td>0.108950</td>\n",
       "      <td>0.614220</td>\n",
       "      <td>0.184140</td>\n",
       "      <td>0.159710</td>\n",
       "      <td>0.071934</td>\n",
       "      <td>0.001123</td>\n",
       "      <td>0.028188</td>\n",
       "      <td>0.303850</td>\n",
       "    </tr>\n",
       "  </tbody>\n",
       "</table>\n",
       "<p>10 rows × 51 columns</p>\n",
       "</div>"
      ],
      "text/plain": [
       "          0         1         2         3         4         5        6   \\\n",
       "0     <user>  0.787040  0.721510  0.291480 -0.056527  0.316830  0.47172   \n",
       "1          .  0.686610 -1.077200  0.011114 -0.240750 -0.342200  0.64456   \n",
       "2          :  0.984830  0.197840  0.284030  0.354060  0.243800  0.42519   \n",
       "3         rt  0.682430  0.735890  0.017529 -0.137630  0.360290  0.51704   \n",
       "4          ,  0.137440 -1.015100 -0.504910  0.269830 -0.755710  1.10140   \n",
       "5   <repeat>  0.800740 -0.838710  0.191600 -0.423220 -0.119620  0.57089   \n",
       "6  <hashtag>  1.001800 -0.761410  0.118120 -1.374300 -0.416780  0.48956   \n",
       "7   <number>  0.026779  0.080507  0.054467 -0.662600 -0.119540  0.34985   \n",
       "8      <url>  0.552830 -0.575810 -0.765960 -1.137100  0.220590 -0.19504   \n",
       "9          !  0.905660 -0.717920 -0.195740 -0.807430 -0.024903  0.31071   \n",
       "\n",
       "         7        8         9     ...         41        42        43  \\\n",
       "0  0.023461  0.69568  0.207820    ...    -2.2162 -0.425370  0.461570   \n",
       "1  0.549570  0.30411 -0.546820    ...    -1.3495  0.232580  0.253830   \n",
       "2 -0.050784  0.48965  0.182310    ...    -2.8820 -0.303930  0.047981   \n",
       "3  0.195400  0.75219  0.430290    ...    -2.7490 -0.551060  0.040409   \n",
       "4  0.077018 -0.15144  0.061658    ...    -2.0934  0.605430 -0.337260   \n",
       "5  0.559830  0.72052 -0.313540    ...    -1.4854 -0.083002  0.241770   \n",
       "6  0.313810 -0.11280  0.221170    ...    -2.2086 -0.649060 -0.044567   \n",
       "7 -0.381140  0.12158 -0.396420    ...    -3.0616  0.658700 -0.756370   \n",
       "8 -0.140780  0.13109  0.049547    ...    -1.9521 -0.121490  0.018784   \n",
       "9  0.894850  0.63035 -0.338630    ...    -1.3769 -0.291660  0.108950   \n",
       "\n",
       "         44        45        46        47        48        49        50  \n",
       "0  0.886260 -0.220140  0.025599 -0.386150  0.080107 -0.075323 -0.614610  \n",
       "1 -0.102260  0.658240  0.160150  0.209590 -0.067516 -0.519520 -0.349220  \n",
       "2  1.093700  0.418400 -0.689580 -0.459230  0.233680 -0.306280 -0.093607  \n",
       "3  0.291640 -0.287920 -0.022740 -0.402950  0.147710  0.080503 -0.681150  \n",
       "4  0.193130 -0.042527 -0.190120 -0.234690  0.212590 -0.194240 -0.938320  \n",
       "5  0.043614  0.583030  0.099758  0.305350 -0.197520 -0.394490 -0.036257  \n",
       "6  0.170270  1.010200  0.406080  0.732950 -0.394540 -0.586790 -0.423430  \n",
       "7  0.155850  0.664040 -1.405100 -0.300530 -1.367100 -0.498800  0.295980  \n",
       "8  0.929850  0.502440  0.154810  0.325150 -0.559700 -1.438900 -0.103660  \n",
       "9  0.614220  0.184140  0.159710  0.071934  0.001123  0.028188  0.303850  \n",
       "\n",
       "[10 rows x 51 columns]"
      ]
     },
     "execution_count": 19,
     "metadata": {},
     "output_type": "execute_result"
    }
   ],
   "source": [
    "embeddings_df.head(10)"
   ]
  },
  {
   "cell_type": "code",
   "execution_count": 20,
   "metadata": {},
   "outputs": [
    {
     "data": {
      "text/plain": [
       "(1193513, 51)"
      ]
     },
     "execution_count": 20,
     "metadata": {},
     "output_type": "execute_result"
    }
   ],
   "source": [
    "embeddings_df.shape"
   ]
  },
  {
   "cell_type": "code",
   "execution_count": 21,
   "metadata": {
    "collapsed": true
   },
   "outputs": [],
   "source": [
    "keys = embeddings_df[0]\n",
    "values = embeddings_df.drop(0, axis=1).as_matrix()"
   ]
  },
  {
   "cell_type": "code",
   "execution_count": 22,
   "metadata": {
    "collapsed": true
   },
   "outputs": [],
   "source": [
    "embeddings = dict(zip(keys, values))"
   ]
  },
  {
   "cell_type": "code",
   "execution_count": 23,
   "metadata": {},
   "outputs": [
    {
     "data": {
      "text/plain": [
       "1193513"
      ]
     },
     "execution_count": 23,
     "metadata": {},
     "output_type": "execute_result"
    }
   ],
   "source": [
    "len(embeddings)"
   ]
  },
  {
   "cell_type": "code",
   "execution_count": 24,
   "metadata": {},
   "outputs": [
    {
     "data": {
      "text/plain": [
       "(0.043995290164890316, 0.73192440745167187)"
      ]
     },
     "execution_count": 24,
     "metadata": {},
     "output_type": "execute_result"
    }
   ],
   "source": [
    "all_embs = np.stack(embeddings.values())\n",
    "emb_mean,emb_std = all_embs.mean(), all_embs.std()\n",
    "emb_mean,emb_std"
   ]
  },
  {
   "cell_type": "code",
   "execution_count": 25,
   "metadata": {
    "collapsed": true
   },
   "outputs": [],
   "source": [
    "word_counter = pickle.load(open('word_counter.pkl', 'rb'))"
   ]
  },
  {
   "cell_type": "code",
   "execution_count": 26,
   "metadata": {
    "collapsed": true
   },
   "outputs": [],
   "source": [
    "vocabulary = [pair[0] for pair in word_counter.most_common(vocab_size)]"
   ]
  },
  {
   "cell_type": "code",
   "execution_count": 27,
   "metadata": {
    "collapsed": true
   },
   "outputs": [],
   "source": [
    "glove_dim = len(embeddings)"
   ]
  },
  {
   "cell_type": "code",
   "execution_count": 103,
   "metadata": {
    "collapsed": true
   },
   "outputs": [],
   "source": [
    "nb_words = min(vocab_size+1, glove_dim)\n",
    "embedding_matrix = np.random.normal(emb_mean, emb_std, (nb_words, embed_size))\n",
    "for i, word in enumerate(vocabulary):\n",
    "    if i >= vocab_size+1:\n",
    "        continue\n",
    "    embedding_vector = embeddings.get(word)\n",
    "    if embedding_vector is not None:\n",
    "        embedding_matrix[i+1] = embedding_vector"
   ]
  },
  {
   "cell_type": "code",
   "execution_count": 105,
   "metadata": {},
   "outputs": [
    {
     "data": {
      "text/plain": [
       "array([-0.90863209, -1.83054233,  0.20075362, -0.09392044, -0.61499785,\n",
       "       -0.08694068, -0.53790446, -0.69105299,  0.24632631,  1.114145  ,\n",
       "        0.20596222,  0.1127703 ,  0.1055719 , -0.49976979,  0.16715639,\n",
       "       -0.61481833,  0.5863114 , -0.59645605, -0.90389832, -0.22466315,\n",
       "       -0.40626646, -0.65643533,  0.32985416, -0.09072985,  1.4024442 ,\n",
       "        0.79602253, -1.16494341, -0.12527208, -0.07377362,  0.02483354,\n",
       "        0.60662275,  0.07979284,  1.02550161, -0.02989132,  0.38192396,\n",
       "       -1.15426754, -0.14828249,  1.46536808,  0.11470578,  0.80675531,\n",
       "        0.05579536,  0.89502589, -0.87188143,  0.84338568,  1.14738712,\n",
       "        0.06312929, -0.85381121,  0.14439408, -0.15484467, -0.46886253])"
      ]
     },
     "execution_count": 105,
     "metadata": {},
     "output_type": "execute_result"
    }
   ],
   "source": [
    "embedding_matrix[0]"
   ]
  },
  {
   "cell_type": "code",
   "execution_count": 100,
   "metadata": {
    "collapsed": true
   },
   "outputs": [],
   "source": [
    "idx_to_word = {index+1:word for index,word in enumerate(vocabulary)}\n",
    "word_to_idx = {word:index+1 for index,word in enumerate(vocabulary)}\n",
    "idx_to_word[0] = '<pad>'\n",
    "word_to_idx['<pad>'] = 0"
   ]
  },
  {
   "cell_type": "code",
   "execution_count": 101,
   "metadata": {},
   "outputs": [],
   "source": [
    "def make_seq(df):\n",
    "    all_tokens = [spacy_tokenizer(df[\"comment_text\"].iloc[i]) for i in range(df[\"comment_text\"].shape[0])]\n",
    "    seq_all = []\n",
    "    empty_indices = []\n",
    "    for i in range(df.shape[0]):\n",
    "        seq = []\n",
    "        for tok in all_tokens[i]:\n",
    "            tok_idx = word_to_idx.get(tok)\n",
    "            if tok_idx is None:\n",
    "                continue\n",
    "            seq.append(tok_idx)\n",
    "        if(len(seq) == 0):\n",
    "            empty_indices.append(i)\n",
    "            continue\n",
    "        seq_all.append(seq)\n",
    "        \n",
    "    target_df = df.loc[~df.index.isin(empty_indices), df.columns[2:]]\n",
    "    target = target_df.as_matrix()\n",
    "        #print(tok)\n",
    "    return seq_all,target"
   ]
  },
  {
   "cell_type": "code",
   "execution_count": 102,
   "metadata": {},
   "outputs": [],
   "source": [
    "all_seq,target = make_seq(train_data)"
   ]
  },
  {
   "cell_type": "code",
   "execution_count": 106,
   "metadata": {},
   "outputs": [],
   "source": [
    "max_len = 100"
   ]
  },
  {
   "cell_type": "code",
   "execution_count": 107,
   "metadata": {},
   "outputs": [],
   "source": [
    "def pad_sequences(vectorized_seqs, seq_lengths):\n",
    "    max_seq_len = min(seq_lengths.max(),max_len)\n",
    "    seq_tensor = torch.zeros((len(vectorized_seqs), max_seq_len)).long()\n",
    "    for idx, (seq, seqlen) in enumerate(zip(vectorized_seqs, seq_lengths)):\n",
    "        min_seq_len = min(seqlen,max_len)\n",
    "        seq_tensor[idx, :min_seq_len] = torch.LongTensor(seq[:min_seq_len])\n",
    "    return seq_tensor"
   ]
  },
  {
   "cell_type": "code",
   "execution_count": 108,
   "metadata": {},
   "outputs": [],
   "source": [
    "all_seq_lengths = torch.LongTensor([len(s) for s in all_seq])"
   ]
  },
  {
   "cell_type": "code",
   "execution_count": 109,
   "metadata": {},
   "outputs": [],
   "source": [
    "all_seq_pad = pad_sequences(all_seq,all_seq_lengths)"
   ]
  },
  {
   "cell_type": "code",
   "execution_count": 162,
   "metadata": {},
   "outputs": [],
   "source": [
    "x_train,x_val,y_train,y_val = train_test_split(pd.DataFrame(all_seq_pad.numpy()),pd.DataFrame(target),test_size = 0.2,stratify = target[:,3]) "
   ]
  },
  {
   "cell_type": "code",
   "execution_count": 135,
   "metadata": {},
   "outputs": [
    {
     "data": {
      "text/plain": [
       "27607"
      ]
     },
     "execution_count": 135,
     "metadata": {},
     "output_type": "execute_result"
    }
   ],
   "source": [
    "y_train.sum()"
   ]
  },
  {
   "cell_type": "code",
   "execution_count": 178,
   "metadata": {},
   "outputs": [],
   "source": [
    "train_ids = torch.from_numpy(x_train.index.values).long()\n",
    "val_ids = torch.from_numpy(x_val.index.values).long()"
   ]
  },
  {
   "cell_type": "code",
   "execution_count": 179,
   "metadata": {},
   "outputs": [],
   "source": [
    "train_seq_lengths = torch.index_select(all_seq_lengths,0,train_ids)\n",
    "val_seq_lengths = torch.index_select(all_seq_lengths,0,val_ids)"
   ]
  },
  {
   "cell_type": "code",
   "execution_count": 142,
   "metadata": {},
   "outputs": [
    {
     "data": {
      "text/plain": [
       "0.82583454281567492"
      ]
     },
     "execution_count": 142,
     "metadata": {},
     "output_type": "execute_result"
    }
   ],
   "source": [
    "y_train[:,5].sum()/target[:,5].sum()"
   ]
  },
  {
   "cell_type": "code",
   "execution_count": 147,
   "metadata": {
    "collapsed": true
   },
   "outputs": [],
   "source": [
    "batch_size=64"
   ]
  },
  {
   "cell_type": "code",
   "execution_count": 161,
   "metadata": {
    "collapsed": true
   },
   "outputs": [],
   "source": [
    "class ToxicDataset(Dataset):\n",
    "    def __init__(self,data_tensor,target_tensor,length_tensor):\n",
    "        assert data_tensor.size(0) == target_tensor.size(0) == length_tensor.size(0)\n",
    "        self.data_tensor = data_tensor\n",
    "        self.target_tensor = target_tensor\n",
    "        self.length_tensor = length_tensor\n",
    "    \n",
    "    def __getitem__(self,index):\n",
    "        return self.data_tensor[index],self.target_tensor[index],self.length_tensor[index]\n",
    "    \n",
    "    def __len__(self):\n",
    "        return self.data_tensor.size(0)"
   ]
  },
  {
   "cell_type": "code",
   "execution_count": 180,
   "metadata": {
    "collapsed": true
   },
   "outputs": [],
   "source": [
    "x_train_t = torch.from_numpy(x_train.values).long()\n",
    "y_train_t = torch.from_numpy(y_train.values).long()\n",
    "train_dataset = ToxicDataset(x_train_t,y_train_t,train_seq_lengths)\n",
    "train_dataloader = DataLoader(train_dataset, batch_size=batch_size,shuffle=True,num_workers=2)"
   ]
  },
  {
   "cell_type": "code",
   "execution_count": 182,
   "metadata": {},
   "outputs": [],
   "source": [
    "x_val_t = torch.from_numpy(x_val.values).long()\n",
    "y_val_t = torch.from_numpy(y_val.values).long()\n",
    "val_dataset = ToxicDataset(x_val_t,y_val_t,val_seq_lengths)\n",
    "val_dataloader = DataLoader(val_dataset, batch_size=2*batch_size,shuffle=False,num_workers=2)"
   ]
  },
  {
   "cell_type": "code",
   "execution_count": 149,
   "metadata": {
    "collapsed": true
   },
   "outputs": [],
   "source": [
    "embed_dim = 50"
   ]
  },
  {
   "cell_type": "code",
   "execution_count": 152,
   "metadata": {
    "collapsed": true
   },
   "outputs": [],
   "source": [
    "embed_nn = nn.Embedding(vocab_size+1, embedding_dim=embed_dim)"
   ]
  },
  {
   "cell_type": "code",
   "execution_count": 153,
   "metadata": {},
   "outputs": [
    {
     "data": {
      "text/plain": [
       "\n",
       "-9.0863e-01 -1.8305e+00  2.0075e-01  ...   1.4439e-01 -1.5484e-01 -4.6886e-01\n",
       " 4.9427e-01  1.3234e-01 -2.3199e-02  ...   2.4152e-01 -2.7658e-01 -3.7987e-01\n",
       " 1.2900e+00  5.2437e-02 -4.3540e-01  ...   4.4992e-02 -9.1239e-01 -1.0489e+00\n",
       "                ...                   ⋱                   ...                \n",
       "-2.7085e-01 -9.7770e-01 -9.7691e-01  ...   7.1800e-01  4.4413e-01 -4.4221e-01\n",
       " 1.1607e-01  7.2430e-01 -5.0700e-01  ...   3.4732e-01 -1.0340e+00 -6.5862e-01\n",
       " 1.1510e+00  8.3473e-02 -2.0625e-01  ...   1.2821e+00  5.4254e-02 -1.1215e-02\n",
       "[torch.FloatTensor of size 1001x50]"
      ]
     },
     "execution_count": 153,
     "metadata": {},
     "output_type": "execute_result"
    }
   ],
   "source": [
    "embed_nn.weight.data.copy_(torch.from_numpy(embedding_matrix))"
   ]
  },
  {
   "cell_type": "code",
   "execution_count": 154,
   "metadata": {
    "collapsed": true
   },
   "outputs": [],
   "source": [
    "embed_nn.weight.requires_grad = False"
   ]
  },
  {
   "cell_type": "code",
   "execution_count": 156,
   "metadata": {
    "collapsed": true
   },
   "outputs": [],
   "source": [
    "epochs = 1"
   ]
  },
  {
   "cell_type": "code",
   "execution_count": 183,
   "metadata": {
    "collapsed": true
   },
   "outputs": [],
   "source": [
    "class LSTMBasicNet(nn.Module):\n",
    "    def __init__(self,input_size, output_size,hidden_size,num_layers,num_classes,embed):\n",
    "        super(LSTMBasicNet,self).__init__()\n",
    "        self.hidden_size = hidden_size\n",
    "        self.input_size = input_size\n",
    "        self.num_layers = num_layers\n",
    "        self.embed = embed\n",
    "        self.lstm = nn.LSTM(input_size=self.input_size,hidden_size=hidden_size,num_layers = num_layers,bidirectional = True, batch_first = True, dropout = 0.1)\n",
    "        self.fc1 = nn.Linear(in_features=hidden_size*2,out_features=output_size)\n",
    "        self.fc2 = nn.Linear(in_features=output_size,out_features=num_classes)\n",
    "        \n",
    "    def forward(self,x,lengths):\n",
    "        embed_out = self.embed(x)\n",
    "        packed_input = pack_padded_sequence(embed_out,batch_first=True,lengths=lengths) \n",
    "        h0 = Variable(torch.zeros(self.num_layers*2, x.size(0), self.hidden_size)) # 2 for bidirection \n",
    "        c0 = Variable(torch.zeros(self.num_layers*2, x.size(0), self.hidden_size))\n",
    "        packed_output,(hn,cn) = self.lstm(packed_input,(h0,c0))\n",
    "        lstm_out = pad_packed_sequence(packed_output,batch_first=True)\n",
    "        lstm_out = F.tanh(lstm_out)\n",
    "        fc1_out = F.dropout(F.relu(self.fc1(lstm_out[:,-1,:])),p=0.1)\n",
    "        out = F.sigmoid(self.fc2(fc1_out))\n",
    "        \n",
    "        return out\n",
    "        \n",
    "        \n",
    "        \n",
    "        "
   ]
  },
  {
   "cell_type": "code",
   "execution_count": 184,
   "metadata": {},
   "outputs": [],
   "source": [
    "model = LSTMBasicNet(embed_size,64,64,2,6,embed_nn)"
   ]
  },
  {
   "cell_type": "code",
   "execution_count": null,
   "metadata": {
    "collapsed": true
   },
   "outputs": [],
   "source": []
  }
 ],
 "metadata": {
  "kernelspec": {
   "display_name": "Python 3",
   "language": "python",
   "name": "python3"
  },
  "language_info": {
   "codemirror_mode": {
    "name": "ipython",
    "version": 3
   },
   "file_extension": ".py",
   "mimetype": "text/x-python",
   "name": "python",
   "nbconvert_exporter": "python",
   "pygments_lexer": "ipython3",
   "version": "3.6.2"
  },
  "notify_time": "5"
 },
 "nbformat": 4,
 "nbformat_minor": 2
}
