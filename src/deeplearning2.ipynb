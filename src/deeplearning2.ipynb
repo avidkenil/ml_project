{
 "cells": [
  {
   "cell_type": "code",
   "execution_count": 1,
   "metadata": {},
   "outputs": [],
   "source": [
    "import pickle\n",
    "import collections as col\n",
    "import pandas as pd\n",
    "import numpy as np\n",
    "\n",
    "import matplotlib.pyplot as plt\n",
    "from sklearn.metrics import roc_curve, auc\n",
    "%matplotlib inline\n",
    "target_cols = [\n",
    "    'toxic', 'severe_toxic', 'obscene', 'threat', \n",
    "    'insult', 'identity_hate'\n",
    "]\n",
    "\n",
    "import torch\n",
    "import torch.nn\n",
    "from torch.autograd import Variable\n",
    "import torch.optim"
   ]
  },
  {
   "cell_type": "code",
   "execution_count": 2,
   "metadata": {},
   "outputs": [],
   "source": [
    "import sys\n",
    "sys.path += [\"/home/zphang/nyu/ML/project/ml_project/\"]"
   ]
  },
  {
   "cell_type": "code",
   "execution_count": 3,
   "metadata": {},
   "outputs": [
    {
     "data": {
      "text/plain": [
       "<module 'src.deep' from '/home/zphang/nyu/ML/project/ml_project/src/deep.py'>"
      ]
     },
     "execution_count": 3,
     "metadata": {},
     "output_type": "execute_result"
    }
   ],
   "source": [
    "import imp\n",
    "import src.deep\n",
    "imp.reload(src.deep)"
   ]
  },
  {
   "cell_type": "markdown",
   "metadata": {},
   "source": [
    "# Data"
   ]
  },
  {
   "cell_type": "code",
   "execution_count": 4,
   "metadata": {},
   "outputs": [],
   "source": [
    "with open(\"/home/zphang/data/ml_proj/data2/X_train_os.pkl\", \"rb\") as f:\n",
    "    X_train = pickle.load(f)\n",
    "with open(\"/home/zphang/data/ml_proj/data2/y_train_os.pkl\", \"rb\") as f:\n",
    "    y_train = pickle.load(f)\n",
    "with open(\"/home/zphang/data/ml_proj/data2/X_val.pkl\", \"rb\") as f:\n",
    "    X_val = pickle.load(f)\n",
    "with open(\"/home/zphang/data/ml_proj/data2/y_val.pkl\", \"rb\") as f:\n",
    "    y_val = pickle.load(f)\n",
    "with open(\"/home/zphang/data/ml_proj/data2/X_test.pkl\", \"rb\") as f:\n",
    "    X_test = pickle.load(f)\n",
    "with open(\"/home/zphang/data/ml_proj/data2/y_test.pkl\", \"rb\") as f:\n",
    "    y_test = pickle.load(f)"
   ]
  },
  {
   "cell_type": "code",
   "execution_count": 5,
   "metadata": {},
   "outputs": [],
   "source": [
    "y_train = y_train[y_val.columns].fillna(0)"
   ]
  },
  {
   "cell_type": "markdown",
   "metadata": {},
   "source": [
    "# Code"
   ]
  },
  {
   "cell_type": "code",
   "execution_count": 6,
   "metadata": {},
   "outputs": [],
   "source": [
    "train_corpus = src.deep.CorpusReader(\n",
    "    x_df=X_train,\n",
    "    y_df=y_train,\n",
    ")\n",
    "val_corpus = src.deep.CorpusReader(\n",
    "    x_df=X_val,\n",
    "    y_df=y_val,\n",
    ")\n",
    "test_corpus = src.deep.CorpusReader(\n",
    "    x_df=X_test,\n",
    "    y_df=y_test,\n",
    ")"
   ]
  },
  {
   "cell_type": "code",
   "execution_count": 7,
   "metadata": {},
   "outputs": [],
   "source": [
    "full_word_srs = src.deep.get_word_srs(X_train[\"comment_text\"])"
   ]
  },
  {
   "cell_type": "code",
   "execution_count": 8,
   "metadata": {},
   "outputs": [],
   "source": [
    "LOG_STEP = -1\n",
    "BATCH_SIZE = 256\n",
    "device = src.deep.get_device_func()\n",
    "\n",
    "param_dict_ls = [\n",
    "    {\n",
    "        \"top_k_words\": 50000,\n",
    "        \"hidden_size\": 128,\n",
    "        \"dropout_prob\": 0.2,\n",
    "        \"learning_rate\": 0.01,\n",
    "        \"n_epochs\": 3,\n",
    "        \"glove_path\": \"/home/zphang/data/vector_cache/glove.6B.100d.txt\",\n",
    "    },\n",
    "    {\n",
    "        \"top_k_words\": 50000,\n",
    "        \"hidden_size\": 256,\n",
    "        \"dropout_prob\": 0.2,\n",
    "        \"learning_rate\": 0.01,\n",
    "        \"n_epochs\": 3,\n",
    "        \"glove_path\": \"/home/zphang/data/vector_cache/glove.twitter.27B.100d.txt\",\n",
    "    },\n",
    "    {\n",
    "        \"top_k_words\": 50000,\n",
    "        \"hidden_size\": 512,\n",
    "        \"dropout_prob\": 0.2,\n",
    "        \"learning_rate\": 0.01,\n",
    "        \"n_epochs\": 3,\n",
    "        \"glove_path\": \"/home/zphang/data/vector_cache/glove.twitter.27B.100d.txt\",\n",
    "    },\n",
    "    {\n",
    "        \"top_k_words\": 50000,\n",
    "        \"hidden_size\": 128,\n",
    "        \"dropout_prob\": 0.2,\n",
    "        \"learning_rate\": 0.01,\n",
    "        \"n_epochs\": 3,\n",
    "        \"glove_path\": \"/home/zphang/data/vector_cache/glove.6B.100d.txt\",\n",
    "    },\n",
    "    {\n",
    "        \"top_k_words\": 50000,\n",
    "        \"hidden_size\": 256,\n",
    "        \"dropout_prob\": 0.2,\n",
    "        \"learning_rate\": 0.01,\n",
    "        \"n_epochs\": 3,\n",
    "        \"glove_path\": \"/home/zphang/data/vector_cache/glove.twitter.27B.100d.txt\",\n",
    "    },\n",
    "    {\n",
    "        \"top_k_words\": 50000,\n",
    "        \"hidden_size\": 512,\n",
    "        \"dropout_prob\": 0.2,\n",
    "        \"learning_rate\": 0.01,\n",
    "        \"n_epochs\": 3,\n",
    "        \"glove_path\": \"/home/zphang/data/vector_cache/glove.twitter.27B.100d.txt\",\n",
    "    },\n",
    "]"
   ]
  },
  {
   "cell_type": "code",
   "execution_count": 9,
   "metadata": {},
   "outputs": [],
   "source": [
    "model_store = []\n",
    "val_auc_ls = []"
   ]
  },
  {
   "cell_type": "code",
   "execution_count": 10,
   "metadata": {},
   "outputs": [
    {
     "data": {
      "text/plain": [
       "<module 'src.deep' from '/home/zphang/nyu/ML/project/ml_project/src/deep.py'>"
      ]
     },
     "execution_count": 10,
     "metadata": {},
     "output_type": "execute_result"
    }
   ],
   "source": [
    "imp.reload(src.deep)"
   ]
  },
  {
   "cell_type": "code",
   "execution_count": 11,
   "metadata": {},
   "outputs": [
    {
     "name": "stdout",
     "output_type": "stream",
     "text": [
      "Model 0\n",
      "EPOCH 0: 0.09290471070993475, 2018-05-02 03:46:24.225638\n",
      "EPOCH 1: 0.0842719744705796, 2018-05-02 03:48:04.985622\n",
      "EPOCH 2: 0.08480384096350577, 2018-05-02 03:49:36.172968\n",
      "Val AUC: 0.9425365676687183\n",
      "\n",
      "Model 1\n",
      "EPOCH 0: 0.08722765982419975, 2018-05-02 03:51:27.130310\n",
      "EPOCH 1: 0.0930436189365378, 2018-05-02 03:53:09.187963\n",
      "EPOCH 2: 0.08825137105902255, 2018-05-02 03:54:41.922794\n",
      "Val AUC: 0.9346616089825189\n",
      "\n",
      "Model 2\n",
      "EPOCH 0: 0.08789740821469556, 2018-05-02 03:56:43.969644\n",
      "EPOCH 1: 0.0915111405061153, 2018-05-02 03:58:37.818996\n",
      "EPOCH 2: 0.09746758881143905, 2018-05-02 04:00:22.478743\n",
      "Val AUC: 0.9314097399574833\n",
      "\n",
      "Model 3\n",
      "EPOCH 0: 0.09025667597663864, 2018-05-02 04:02:10.998766\n",
      "EPOCH 1: 0.08597316993288978, 2018-05-02 04:03:51.558688\n",
      "EPOCH 2: 0.09338220154061497, 2018-05-02 04:05:24.983167\n",
      "Val AUC: 0.9403123525785649\n",
      "\n",
      "Model 4\n",
      "EPOCH 0: 0.08967170825402838, 2018-05-02 04:07:17.041671\n",
      "EPOCH 1: 0.09491756246705069, 2018-05-02 04:08:59.833029\n",
      "EPOCH 2: 0.09801841695348411, 2018-05-02 04:10:32.838183\n",
      "Val AUC: 0.9228024761102223\n",
      "\n",
      "Model 5\n",
      "EPOCH 0: 0.09833346493262045, 2018-05-02 04:12:35.528730\n",
      "EPOCH 1: 0.09109119307152899, 2018-05-02 04:14:29.117367\n",
      "EPOCH 2: 0.09018493291676258, 2018-05-02 04:16:15.223662\n",
      "Val AUC: 0.9191786266655617\n",
      "\n"
     ]
    }
   ],
   "source": [
    "for i, param_dict in enumerate(param_dict_ls):\n",
    "    print(f\"Model {i}\")\n",
    "    model, word_embeddings, dictionary, val_loss_log = \\\n",
    "        src.deep.train_model(\n",
    "            param_dict=param_dict, \n",
    "            device=device, \n",
    "            full_word_srs=full_word_srs,\n",
    "            train_corpus=train_corpus, val_corpus=val_corpus,\n",
    "            batch_size=BATCH_SIZE, log_step=LOG_STEP,\n",
    "        )\n",
    "    model_store.append(\n",
    "        (model, word_embeddings, dictionary, val_loss_log)\n",
    "    )\n",
    "    val_prob = src.deep.inference(\n",
    "        corpus=val_corpus,\n",
    "        model=model,\n",
    "        word_embeddings=word_embeddings,\n",
    "        max_batch_size=BATCH_SIZE,\n",
    "        dictionary=dictionary,\n",
    "        device=device,\n",
    "    )\n",
    "    val_auc = np.mean(src.deep.get_auc(y_val, val_prob))\n",
    "    print(f\"Val AUC: {val_auc}\")\n",
    "    val_auc_ls.append(val_auc)\n",
    "    print(\"\")"
   ]
  },
  {
   "cell_type": "code",
   "execution_count": 12,
   "metadata": {},
   "outputs": [
    {
     "ename": "TypeError",
     "evalue": "inference() got an unexpected keyword argument 'encoder'",
     "output_type": "error",
     "traceback": [
      "\u001b[0;31m---------------------------------------------------------------------------\u001b[0m",
      "\u001b[0;31mTypeError\u001b[0m                                 Traceback (most recent call last)",
      "\u001b[0;32m<ipython-input-12-267c805451e8>\u001b[0m in \u001b[0;36m<module>\u001b[0;34m()\u001b[0m\n\u001b[1;32m      5\u001b[0m     \u001b[0mmax_batch_size\u001b[0m\u001b[0;34m=\u001b[0m\u001b[0mBATCH_SIZE\u001b[0m\u001b[0;34m,\u001b[0m\u001b[0;34m\u001b[0m\u001b[0m\n\u001b[1;32m      6\u001b[0m     \u001b[0mdictionary\u001b[0m\u001b[0;34m=\u001b[0m\u001b[0mdictionary\u001b[0m\u001b[0;34m,\u001b[0m\u001b[0;34m\u001b[0m\u001b[0m\n\u001b[0;32m----> 7\u001b[0;31m     \u001b[0mdevice\u001b[0m\u001b[0;34m=\u001b[0m\u001b[0mdevice\u001b[0m\u001b[0;34m,\u001b[0m\u001b[0;34m\u001b[0m\u001b[0m\n\u001b[0m\u001b[1;32m      8\u001b[0m )\n",
      "\u001b[0;31mTypeError\u001b[0m: inference() got an unexpected keyword argument 'encoder'"
     ]
    }
   ],
   "source": [
    "val_prob = src.deep.inference(\n",
    "    corpus=val_corpus,\n",
    "    encoder=model,\n",
    "    word_embeddings=word_embeddings,\n",
    "    max_batch_size=BATCH_SIZE,\n",
    "    dictionary=dictionary,\n",
    "    device=device,\n",
    ")"
   ]
  },
  {
   "cell_type": "code",
   "execution_count": null,
   "metadata": {},
   "outputs": [],
   "source": [
    "src.deep.plot_roc(y_val, val_prob, target_cols)"
   ]
  },
  {
   "cell_type": "code",
   "execution_count": null,
   "metadata": {},
   "outputs": [],
   "source": []
  }
 ],
 "metadata": {
  "kernelspec": {
   "display_name": "Python 3",
   "language": "python",
   "name": "python3"
  },
  "language_info": {
   "codemirror_mode": {
    "name": "ipython",
    "version": 3
   },
   "file_extension": ".py",
   "mimetype": "text/x-python",
   "name": "python",
   "nbconvert_exporter": "python",
   "pygments_lexer": "ipython3",
   "version": "3.6.3"
  }
 },
 "nbformat": 4,
 "nbformat_minor": 2
}
