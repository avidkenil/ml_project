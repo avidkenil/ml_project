{
 "cells": [
  {
   "cell_type": "code",
   "execution_count": 1,
   "metadata": {},
   "outputs": [],
   "source": [
    "import pickle\n",
    "import collections as col\n",
    "import pandas as pd\n",
    "import numpy as np\n",
    "\n",
    "import matplotlib.pyplot as plt\n",
    "from sklearn.metrics import roc_curve, auc\n",
    "%matplotlib inline\n",
    "target_cols = [\n",
    "    'toxic', 'severe_toxic', 'obscene', 'threat', \n",
    "    'insult', 'identity_hate'\n",
    "]\n",
    "\n",
    "import torch\n",
    "import torch.nn\n",
    "from torch.autograd import Variable\n",
    "import torch.optim"
   ]
  },
  {
   "cell_type": "code",
   "execution_count": 2,
   "metadata": {
    "scrolled": true
   },
   "outputs": [
    {
     "data": {
      "text/plain": [
       "<module 'src.deep' from '/home/zphang/Dropbox/Work/NYU1/ML/project/src/deep.py'>"
      ]
     },
     "execution_count": 2,
     "metadata": {},
     "output_type": "execute_result"
    }
   ],
   "source": [
    "import imp\n",
    "import src.deep\n",
    "imp.reload(src.deep)"
   ]
  },
  {
   "cell_type": "markdown",
   "metadata": {
    "scrolled": true
   },
   "source": [
    "## Data"
   ]
  },
  {
   "cell_type": "code",
   "execution_count": 3,
   "metadata": {
    "scrolled": true
   },
   "outputs": [],
   "source": [
    "with open(\"/home/zphang/data/ml_proj/X_train_os.pkl\", \"rb\") as f:\n",
    "    X_train = pickle.load(f)\n",
    "with open(\"/home/zphang/data/ml_proj/y_train_os.pkl\", \"rb\") as f:\n",
    "    y_train = pickle.load(f)\n",
    "with open(\"/home/zphang/data/ml_proj/X_val.pkl\", \"rb\") as f:\n",
    "    X_val = pickle.load(f)\n",
    "with open(\"/home/zphang/data/ml_proj/y_val.pkl\", \"rb\") as f:\n",
    "    y_val = pickle.load(f)\n",
    "with open(\"/home/zphang/data/ml_proj/X_test.pkl\", \"rb\") as f:\n",
    "    X_test = pickle.load(f)\n",
    "with open(\"/home/zphang/data/ml_proj/y_test.pkl\", \"rb\") as f:\n",
    "    y_test = pickle.load(f)"
   ]
  },
  {
   "cell_type": "markdown",
   "metadata": {},
   "source": [
    "## Code"
   ]
  },
  {
   "cell_type": "code",
   "execution_count": 4,
   "metadata": {},
   "outputs": [],
   "source": [
    "TOP_K_WORDS = 50000\n",
    "HIDDEN_SIZE = 256\n",
    "DROPOUT_PROB = 0.2\n",
    "LEARNING_RATE = 0.01\n",
    "BATCH_SIZE = 256\n",
    "LOG_STEP = 100\n",
    "N_EPOCHS = 3\n",
    "\n",
    "GLOVE_PATH = \"/home/zphang/data/vector_cache/glove.6B.100d.txt\""
   ]
  },
  {
   "cell_type": "code",
   "execution_count": 5,
   "metadata": {},
   "outputs": [],
   "source": [
    "train_corpus = src.deep.CorpusReader(\n",
    "    x_df=X_train,\n",
    "    y_df=y_train,\n",
    ")\n",
    "val_corpus = src.deep.CorpusReader(\n",
    "    x_df=X_val,\n",
    "    y_df=y_val,\n",
    ")\n",
    "test_corpus = src.deep.CorpusReader(\n",
    "    x_df=X_test,\n",
    "    y_df=y_test,\n",
    ")"
   ]
  },
  {
   "cell_type": "code",
   "execution_count": 6,
   "metadata": {},
   "outputs": [],
   "source": [
    "device = src.deep.get_device_func()"
   ]
  },
  {
   "cell_type": "code",
   "execution_count": 7,
   "metadata": {},
   "outputs": [],
   "source": [
    "word_srs = src.deep.get_word_srs(X_train[\"comment_text\"])\n",
    "word_list = word_srs[:TOP_K_WORDS].index.tolist()"
   ]
  },
  {
   "cell_type": "code",
   "execution_count": 8,
   "metadata": {},
   "outputs": [],
   "source": [
    "word_embeddings, dictionary = src.deep.read_embeddings(\n",
    "    GLOVE_PATH,\n",
    "    vocabulary=word_list,\n",
    ")\n",
    "word_embeddings = device(word_embeddings)\n",
    "word_embeddings.weight.requires_grad = False"
   ]
  },
  {
   "cell_type": "code",
   "execution_count": 9,
   "metadata": {
    "scrolled": true
   },
   "outputs": [],
   "source": [
    "encoder = device(src.deep.RNNEncoder(\n",
    "    embedding_size=word_embeddings.embedding_dim,\n",
    "    hidden_size=HIDDEN_SIZE,\n",
    "    output_classes=6,\n",
    "    bidirectional=True,\n",
    "    layers=1,\n",
    "    dropout=DROPOUT_PROB,\n",
    "))\n",
    "for param in encoder.parameters():\n",
    "    param.data.uniform_(-0.1, 0.1)"
   ]
  },
  {
   "cell_type": "code",
   "execution_count": 10,
   "metadata": {},
   "outputs": [],
   "source": [
    "optimizer = torch.optim.Adam(\n",
    "    encoder.parameters(),\n",
    "    lr=LEARNING_RATE,\n",
    ")\n",
    "criterion = torch.nn.BCEWithLogitsLoss()"
   ]
  },
  {
   "cell_type": "code",
   "execution_count": 11,
   "metadata": {},
   "outputs": [
    {
     "name": "stdout",
     "output_type": "stream",
     "text": [
      "0 0 0.3676720897606936\n",
      "0 100 0.06377318989446515\n",
      "0 200 0.056004891227030805\n",
      "0 300 0.052702855978537196\n",
      "0 400 0.054751881653838805\n",
      "EPOCH 0.05999726429581642\n",
      "1 0 0.05543951485057392\n",
      "1 100 0.05343391149236929\n",
      "1 200 0.054529594422178605\n",
      "1 300 0.05622857076522065\n",
      "1 400 0.05632469779889133\n",
      "EPOCH 0.0708656907081604\n",
      "2 0 0.05519048853477881\n",
      "2 100 0.059772671092652496\n",
      "2 200 0.05916599552064505\n",
      "2 300 0.06019494331849729\n",
      "2 400 0.06521016934196355\n",
      "EPOCH 0.0700426921248436\n"
     ]
    }
   ],
   "source": [
    "for epoch in range(N_EPOCHS):\n",
    "    for i, batch_size, x_batch, y_batch in \\\n",
    "            train_corpus.iterate(BATCH_SIZE):\n",
    "        encoder.train()\n",
    "        optimizer.zero_grad()\n",
    "        ids_batch, lengths = dictionary.sentences2ids(x_batch, eos=True)\n",
    "        ids_batch = device(Variable(torch.LongTensor(ids_batch)))\n",
    "        y_batch = device(Variable(torch.LongTensor(y_batch)))\n",
    "        hidden = device(encoder.initial_hidden(batch_size))\n",
    "        pred_batch = encoder(\n",
    "            enc_input=ids_batch, \n",
    "            lengths=lengths,\n",
    "            word_embeddings=word_embeddings,\n",
    "            hidden=hidden\n",
    "        )\n",
    "        loss = criterion(\n",
    "            pred_batch.view(-1),\n",
    "            y_batch.contiguous().view(-1).float(),\n",
    "        )\n",
    "        loss.backward()\n",
    "        torch.nn.utils.clip_grad_norm(encoder.parameters(), 5)\n",
    "        optimizer.step()\n",
    "        if i % LOG_STEP == 0:\n",
    "            print(\n",
    "                epoch, i, src.deep.validate(\n",
    "                    val_corpus, encoder, word_embeddings,\n",
    "                    BATCH_SIZE, dictionary, device,\n",
    "                )\n",
    "            )\n",
    "    print(\"EPOCH\", loss.data[0])"
   ]
  },
  {
   "cell_type": "code",
   "execution_count": 12,
   "metadata": {},
   "outputs": [],
   "source": [
    "test_preds = src.deep.inference(\n",
    "    test_corpus, encoder, word_embeddings,\n",
    "    BATCH_SIZE, dictionary, device,\n",
    ")\n",
    "test_probs = torch.sigmoid(torch.Tensor(test_preds)).numpy()\n",
    "gru_test_probs = test_probs.T"
   ]
  },
  {
   "cell_type": "code",
   "execution_count": 13,
   "metadata": {
    "scrolled": false
   },
   "outputs": [
    {
     "data": {
      "image/png": "[encoded data removed]",
      "text/plain": [
       "<matplotlib.figure.Figure at 0x7fd9267ee9e8>"
      ]
     },
     "metadata": {},
     "output_type": "display_data"
    }
   ],
   "source": [
    "auc_rf_deep = []\n",
    "plt.figure(figsize=(10,8))\n",
    "for i, col in enumerate(target_cols):\n",
    "    fpr, tpr, threshold = roc_curve(y_test.iloc[:, i], gru_test_probs[i])\n",
    "    auc_value = auc(fpr, tpr)\n",
    "    auc_rf_deep.append(auc_value)\n",
    "    plt.plot(fpr, tpr, label='{}: {:0.5f}'.format('auc_'+col, auc_value))\n",
    "plt.xlabel('fpr')\n",
    "plt.ylabel('tpr')\n",
    "plt.title('ROC Curve for GRU')\n",
    "plt.xlim([0, 1])\n",
    "plt.ylim([0, 1])\n",
    "plt.legend(bbox_to_anchor=(1.01, 1), loc=2, borderaxespad=0.)\n",
    "plt.show()"
   ]
  },
  {
   "cell_type": "code",
   "execution_count": null,
   "metadata": {},
   "outputs": [],
   "source": []
  }
 ],
 "metadata": {
  "kernelspec": {
   "display_name": "Python 3",
   "language": "python",
   "name": "python3"
  },
  "language_info": {
   "codemirror_mode": {
    "name": "ipython",
    "version": 3
   },
   "file_extension": ".py",
   "mimetype": "text/x-python",
   "name": "python",
   "nbconvert_exporter": "python",
   "pygments_lexer": "ipython3",
   "version": "3.6.3"
  }
 },
 "nbformat": 4,
 "nbformat_minor": 2
}
