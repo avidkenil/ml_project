{
 "cells": [
  {
   "cell_type": "code",
   "execution_count": 2,
   "metadata": {},
   "outputs": [],
   "source": [
    "import pickle\n",
    "import collections as col\n",
    "import pandas as pd\n",
    "import numpy as np\n",
    "\n",
    "import matplotlib.pyplot as plt\n",
    "from sklearn.metrics import roc_curve, auc\n",
    "%matplotlib inline\n",
    "target_cols = [\n",
    "    'toxic', 'severe_toxic', 'obscene', 'threat', \n",
    "    'insult', 'identity_hate'\n",
    "]\n",
    "\n",
    "import torch\n",
    "import torch.nn\n",
    "from torch.autograd import Variable\n",
    "import torch.optim"
   ]
  },
  {
   "cell_type": "code",
   "execution_count": 5,
   "metadata": {},
   "outputs": [],
   "source": [
    "import sys\n",
    "sys.path += [\"/home/zphang/nyu/ML/project/ml_project/\"]"
   ]
  },
  {
   "cell_type": "code",
   "execution_count": 6,
   "metadata": {
    "scrolled": true
   },
   "outputs": [
    {
     "data": {
      "text/plain": [
       "<module 'src.deep' from '/home/zphang/nyu/ML/project/ml_project/src/deep.py'>"
      ]
     },
     "execution_count": 6,
     "metadata": {},
     "output_type": "execute_result"
    }
   ],
   "source": [
    "import imp\n",
    "import src.deep\n",
    "imp.reload(src.deep)"
   ]
  },
  {
   "cell_type": "markdown",
   "metadata": {
    "scrolled": true
   },
   "source": [
    "## Data"
   ]
  },
  {
   "cell_type": "code",
   "execution_count": 68,
   "metadata": {
    "scrolled": true
   },
   "outputs": [],
   "source": [
    "with open(\"/home/zphang/data/ml_proj/data2/X_train_os.pkl\", \"rb\") as f:\n",
    "    X_train = pickle.load(f)\n",
    "with open(\"/home/zphang/data/ml_proj/data2/y_train_os.pkl\", \"rb\") as f:\n",
    "    y_train = pickle.load(f)\n",
    "with open(\"/home/zphang/data/ml_proj/data2/X_val.pkl\", \"rb\") as f:\n",
    "    X_val = pickle.load(f)\n",
    "with open(\"/home/zphang/data/ml_proj/data2/y_val.pkl\", \"rb\") as f:\n",
    "    y_val = pickle.load(f)\n",
    "with open(\"/home/zphang/data/ml_proj/data2/X_test.pkl\", \"rb\") as f:\n",
    "    X_test = pickle.load(f)\n",
    "with open(\"/home/zphang/data/ml_proj/data2/y_test.pkl\", \"rb\") as f:\n",
    "    y_test = pickle.load(f)"
   ]
  },
  {
   "cell_type": "code",
   "execution_count": 73,
   "metadata": {},
   "outputs": [],
   "source": [
    "y_train = y_train[y_val.columns].fillna(0)"
   ]
  },
  {
   "cell_type": "markdown",
   "metadata": {},
   "source": [
    "## Code"
   ]
  },
  {
   "cell_type": "code",
   "execution_count": 80,
   "metadata": {},
   "outputs": [],
   "source": [
    "LOG_STEP = 1000\n",
    "BATCH_SIZE = 256\n",
    "\n",
    "param_dict = {\n",
    "    \"top_k_words\": 50000,\n",
    "    \"hidden_size\": 256,\n",
    "    \"dropout_prob\": 0.2,\n",
    "    \"learning_rate\": 0.01,\n",
    "    \"n_epochs\": 3,\n",
    "    \"glove_path\": \"/home/zphang/data/vector_cache/glove.6B.100d.txt\",\n",
    "}"
   ]
  },
  {
   "cell_type": "code",
   "execution_count": 81,
   "metadata": {},
   "outputs": [],
   "source": [
    "train_corpus = src.deep.CorpusReader(\n",
    "    x_df=X_train,\n",
    "    y_df=y_train,\n",
    ")\n",
    "val_corpus = src.deep.CorpusReader(\n",
    "    x_df=X_val,\n",
    "    y_df=y_val,\n",
    ")\n",
    "test_corpus = src.deep.CorpusReader(\n",
    "    x_df=X_test,\n",
    "    y_df=y_test,\n",
    ")"
   ]
  },
  {
   "cell_type": "code",
   "execution_count": 82,
   "metadata": {},
   "outputs": [],
   "source": [
    "device = src.deep.get_device_func()"
   ]
  },
  {
   "cell_type": "code",
   "execution_count": 83,
   "metadata": {},
   "outputs": [],
   "source": [
    "word_srs = src.deep.get_word_srs(X_train[\"comment_text\"])\n",
    "word_list = word_srs[:param_dict[\"top_k_words\"]].index.tolist()"
   ]
  },
  {
   "cell_type": "code",
   "execution_count": 84,
   "metadata": {},
   "outputs": [],
   "source": [
    "word_embeddings, dictionary = src.deep.read_embeddings(\n",
    "    param_dict[\"glove_path\"],\n",
    "    vocabulary=word_list,\n",
    ")\n",
    "word_embeddings = device(word_embeddings)\n",
    "word_embeddings.weight.requires_grad = False"
   ]
  },
  {
   "cell_type": "code",
   "execution_count": 85,
   "metadata": {
    "scrolled": true
   },
   "outputs": [],
   "source": [
    "encoder = device(src.deep.RNNEncoder(\n",
    "    embedding_size=word_embeddings.embedding_dim,\n",
    "    hidden_size=param_dict[\"hidden_size\"],\n",
    "    output_classes=6,\n",
    "    bidirectional=True,\n",
    "    layers=1,\n",
    "    dropout=param_dict[\"dropout_prob\"],\n",
    "))\n",
    "for param in encoder.parameters():\n",
    "    param.data.uniform_(-0.1, 0.1)"
   ]
  },
  {
   "cell_type": "code",
   "execution_count": 86,
   "metadata": {},
   "outputs": [],
   "source": [
    "optimizer = torch.optim.Adam(\n",
    "    encoder.parameters(),\n",
    "    lr=param_dict[\"learning_rate\"],\n",
    ")\n",
    "criterion = torch.nn.BCEWithLogitsLoss()"
   ]
  },
  {
   "cell_type": "code",
   "execution_count": 87,
   "metadata": {
    "scrolled": true
   },
   "outputs": [
    {
     "name": "stdout",
     "output_type": "stream",
     "text": [
      "0 0 0.3539248786116331\n",
      "0 100 0.09047752933304375\n",
      "0 200 0.09166475639943454\n",
      "0 300 0.09080248351977001\n",
      "0 400 0.08812503612531922\n",
      "EPOCH 0.10905012488365173\n",
      "1 0 0.08967714317172379\n",
      "1 100 0.08899718406716706\n",
      "1 200 0.08663838576837583\n",
      "1 300 0.08357710929917476\n",
      "1 400 0.08798052324883851\n",
      "EPOCH 0.08769708126783371\n",
      "2 0 0.08806266858281965\n",
      "2 100 0.08953195758863836\n",
      "2 200 0.08830758803838953\n",
      "2 300 0.08358011458519894\n",
      "2 400 0.08750401070286488\n",
      "EPOCH 0.0738174170255661\n"
     ]
    }
   ],
   "source": [
    "for epoch in range(param_dict[\"n_epochs\"]):\n",
    "    for i, batch_size, x_batch, y_batch in \\\n",
    "            train_corpus.iterate(BATCH_SIZE):\n",
    "        encoder.train()\n",
    "        optimizer.zero_grad()\n",
    "        ids_batch, lengths = dictionary.sentences2ids(x_batch, eos=True)\n",
    "        ids_batch = device(Variable(torch.LongTensor(ids_batch)))\n",
    "        y_batch = device(Variable(torch.LongTensor(y_batch)))\n",
    "        hidden = device(encoder.initial_hidden(batch_size))\n",
    "        pred_batch = encoder(\n",
    "            enc_input=ids_batch, \n",
    "            lengths=lengths,\n",
    "            word_embeddings=word_embeddings,\n",
    "            hidden=hidden\n",
    "        )\n",
    "        loss = criterion(\n",
    "            pred_batch.view(-1),\n",
    "            y_batch.contiguous().view(-1).float(),\n",
    "        )\n",
    "        loss.backward()\n",
    "        torch.nn.utils.clip_grad_norm(encoder.parameters(), 5)\n",
    "        optimizer.step()\n",
    "        if i % LOG_STEP == 0:\n",
    "            print(\n",
    "                epoch, i, src.deep.validate(\n",
    "                    val_corpus, encoder, word_embeddings,\n",
    "                    BATCH_SIZE, dictionary, device,\n",
    "                )\n",
    "            )\n",
    "    print(\"EPOCH\", loss.data[0])"
   ]
  },
  {
   "cell_type": "code",
   "execution_count": 88,
   "metadata": {},
   "outputs": [],
   "source": [
    "test_preds = src.deep.inference(\n",
    "    test_corpus, encoder, word_embeddings,\n",
    "    BATCH_SIZE, dictionary, device,\n",
    ")\n",
    "test_probs = torch.sigmoid(torch.Tensor(test_preds)).numpy()\n",
    "gru_test_probs = test_probs.T"
   ]
  },
  {
   "cell_type": "code",
   "execution_count": 90,
   "metadata": {
    "collapsed": true
   },
   "outputs": [
    {
     "data": {
      "image/png": "[encoded data removed]",
      "text/plain": [
       "<matplotlib.figure.Figure at 0x7f897b7235c0>"
      ]
     },
     "metadata": {},
     "output_type": "display_data"
    }
   ],
   "source": [
    "auc_ls = []\n",
    "plt.figure(figsize=(10,8))\n",
    "for i, col in enumerate(target_cols):\n",
    "    fpr, tpr, threshold = roc_curve(y_test.iloc[:, i], gru_test_probs[i])\n",
    "    auc_value = auc(fpr, tpr)\n",
    "    auc_ls.append(auc_value)\n",
    "    plt.plot(fpr, tpr, label='{}: {:0.5f}'.format('auc_'+col, auc_value))\n",
    "plt.xlabel('fpr')\n",
    "plt.ylabel('tpr')\n",
    "plt.title('ROC Curve for GRU')\n",
    "plt.xlim([0, 1])\n",
    "plt.ylim([0, 1])\n",
    "plt.legend(bbox_to_anchor=(1.01, 1), loc=2, borderaxespad=0.)\n",
    "plt.show()"
   ]
  },
  {
   "cell_type": "code",
   "execution_count": 91,
   "metadata": {
    "collapsed": true
   },
   "outputs": [
    {
     "data": {
      "text/plain": [
       "[0.92746560702766212,\n",
       " 0.96437722752803012,\n",
       " 0.94085405227228835,\n",
       " 0.95849493517754136,\n",
       " 0.94034980145277591,\n",
       " 0.93542730720606826]"
      ]
     },
     "execution_count": 91,
     "metadata": {},
     "output_type": "execute_result"
    }
   ],
   "source": [
    "auc_ls"
   ]
  },
  {
   "cell_type": "code",
   "execution_count": null,
   "metadata": {},
   "outputs": [],
   "source": []
  }
 ],
 "metadata": {
  "kernelspec": {
   "display_name": "Python 3",
   "language": "python",
   "name": "python3"
  },
  "language_info": {
   "codemirror_mode": {
    "name": "ipython",
    "version": 3
   },
   "file_extension": ".py",
   "mimetype": "text/x-python",
   "name": "python",
   "nbconvert_exporter": "python",
   "pygments_lexer": "ipython3",
   "version": "3.6.3"
  }
 },
 "nbformat": 4,
 "nbformat_minor": 2
}
